{
  "cells": [
    {
      "metadata": {
        "id": "2018579d87e369b5"
      },
      "cell_type": "markdown",
      "source": [
        "# Double Sweet Experimental Design\n",
        "> Colab tip: Open the left sidebar (☰)  -> **Table of Contents** to navigate this notebook.\n",
        "[![Open In Colab](https://colab.research.google.com/assets/colab-badge.svg)](https://colab.research.google.com/github/AutoResearch/ASDMB-Workshop/blob/main/ASDMB-book/content/practical-sessions/experimental-design/double-sweet-experimental-design.ipynb)\n"
      ],
      "id": "2018579d87e369b5"
    },
    {
      "metadata": {
        "ExecuteTime": {
          "end_time": "2025-09-25T12:05:24.386866Z",
          "start_time": "2025-09-25T12:05:19.397466Z"
        },
        "id": "1bee35d70280b7b1",
        "outputId": "508cd2a3-8b8a-4f61-d52c-9c86f786d939",
        "colab": {
          "base_uri": "https://localhost:8080/"
        }
      },
      "cell_type": "code",
      "source": [
        "%pip install sweetpea\n",
        "%pip install sweetbean\n",
        "%pip install graph_scheduler\n",
        "from graph_scheduler import WithNode\n",
        "%%capture\n",
        "\n"
      ],
      "id": "1bee35d70280b7b1",
      "outputs": [
        {
          "output_type": "stream",
          "name": "stdout",
          "text": [
            "Requirement already satisfied: sweetpea in /usr/local/lib/python3.12/dist-packages (0.2.10)\n",
            "Requirement already satisfied: ascii-graph in /usr/local/lib/python3.12/dist-packages (from sweetpea) (1.5.2)\n",
            "Requirement already satisfied: appdirs in /usr/local/lib/python3.12/dist-packages (from sweetpea) (1.4.4)\n",
            "Requirement already satisfied: mypy in /usr/local/lib/python3.12/dist-packages (from sweetpea) (1.18.2)\n",
            "Requirement already satisfied: networkx in /usr/local/lib/python3.12/dist-packages (from sweetpea) (3.5)\n",
            "Requirement already satisfied: numpy in /usr/local/lib/python3.12/dist-packages (from sweetpea) (2.0.2)\n",
            "Requirement already satisfied: pytest in /usr/local/lib/python3.12/dist-packages (from sweetpea) (8.4.2)\n",
            "Requirement already satisfied: requests in /usr/local/lib/python3.12/dist-packages (from sweetpea) (2.32.4)\n",
            "Requirement already satisfied: tqdm in /usr/local/lib/python3.12/dist-packages (from sweetpea) (4.67.1)\n",
            "Requirement already satisfied: typing_extensions>=4.6.0 in /usr/local/lib/python3.12/dist-packages (from mypy->sweetpea) (4.15.0)\n",
            "Requirement already satisfied: mypy_extensions>=1.0.0 in /usr/local/lib/python3.12/dist-packages (from mypy->sweetpea) (1.1.0)\n",
            "Requirement already satisfied: pathspec>=0.9.0 in /usr/local/lib/python3.12/dist-packages (from mypy->sweetpea) (0.12.1)\n",
            "Requirement already satisfied: iniconfig>=1 in /usr/local/lib/python3.12/dist-packages (from pytest->sweetpea) (2.1.0)\n",
            "Requirement already satisfied: packaging>=20 in /usr/local/lib/python3.12/dist-packages (from pytest->sweetpea) (25.0)\n",
            "Requirement already satisfied: pluggy<2,>=1.5 in /usr/local/lib/python3.12/dist-packages (from pytest->sweetpea) (1.6.0)\n",
            "Requirement already satisfied: pygments>=2.7.2 in /usr/local/lib/python3.12/dist-packages (from pytest->sweetpea) (2.19.2)\n",
            "Requirement already satisfied: charset_normalizer<4,>=2 in /usr/local/lib/python3.12/dist-packages (from requests->sweetpea) (3.4.3)\n",
            "Requirement already satisfied: idna<4,>=2.5 in /usr/local/lib/python3.12/dist-packages (from requests->sweetpea) (3.10)\n",
            "Requirement already satisfied: urllib3<3,>=1.21.1 in /usr/local/lib/python3.12/dist-packages (from requests->sweetpea) (1.26.20)\n",
            "Requirement already satisfied: certifi>=2017.4.17 in /usr/local/lib/python3.12/dist-packages (from requests->sweetpea) (2025.8.3)\n",
            "Requirement already satisfied: sweetbean in /usr/local/lib/python3.12/dist-packages (1.3.3)\n",
            "Requirement already satisfied: jinja2==3.1.4 in /usr/local/lib/python3.12/dist-packages (from sweetbean) (3.1.4)\n",
            "Requirement already satisfied: Transcrypt==3.9.3 in /usr/local/lib/python3.12/dist-packages (from sweetbean) (3.9.3)\n",
            "Requirement already satisfied: pyppeteer==2.0.0 in /usr/local/lib/python3.12/dist-packages (from sweetbean) (2.0.0)\n",
            "Requirement already satisfied: pillow==11.0.0 in /usr/local/lib/python3.12/dist-packages (from sweetbean) (11.0.0)\n",
            "Requirement already satisfied: MarkupSafe>=2.0 in /usr/local/lib/python3.12/dist-packages (from jinja2==3.1.4->sweetbean) (3.0.2)\n",
            "Requirement already satisfied: appdirs<2.0.0,>=1.4.3 in /usr/local/lib/python3.12/dist-packages (from pyppeteer==2.0.0->sweetbean) (1.4.4)\n",
            "Requirement already satisfied: certifi>=2023 in /usr/local/lib/python3.12/dist-packages (from pyppeteer==2.0.0->sweetbean) (2025.8.3)\n",
            "Requirement already satisfied: importlib-metadata>=1.4 in /usr/local/lib/python3.12/dist-packages (from pyppeteer==2.0.0->sweetbean) (8.7.0)\n",
            "Requirement already satisfied: pyee<12.0.0,>=11.0.0 in /usr/local/lib/python3.12/dist-packages (from pyppeteer==2.0.0->sweetbean) (11.1.1)\n",
            "Requirement already satisfied: tqdm<5.0.0,>=4.42.1 in /usr/local/lib/python3.12/dist-packages (from pyppeteer==2.0.0->sweetbean) (4.67.1)\n",
            "Requirement already satisfied: urllib3<2.0.0,>=1.25.8 in /usr/local/lib/python3.12/dist-packages (from pyppeteer==2.0.0->sweetbean) (1.26.20)\n",
            "Requirement already satisfied: websockets<11.0,>=10.0 in /usr/local/lib/python3.12/dist-packages (from pyppeteer==2.0.0->sweetbean) (10.4)\n",
            "Requirement already satisfied: mypy in /usr/local/lib/python3.12/dist-packages (from Transcrypt==3.9.3->sweetbean) (1.18.2)\n",
            "Requirement already satisfied: zipp>=3.20 in /usr/local/lib/python3.12/dist-packages (from importlib-metadata>=1.4->pyppeteer==2.0.0->sweetbean) (3.23.0)\n",
            "Requirement already satisfied: typing-extensions in /usr/local/lib/python3.12/dist-packages (from pyee<12.0.0,>=11.0.0->pyppeteer==2.0.0->sweetbean) (4.15.0)\n",
            "Requirement already satisfied: mypy_extensions>=1.0.0 in /usr/local/lib/python3.12/dist-packages (from mypy->Transcrypt==3.9.3->sweetbean) (1.1.0)\n",
            "Requirement already satisfied: pathspec>=0.9.0 in /usr/local/lib/python3.12/dist-packages (from mypy->Transcrypt==3.9.3->sweetbean) (0.12.1)\n",
            "Requirement already satisfied: graph_scheduler in /usr/local/lib/python3.12/dist-packages (1.2.2)\n",
            "Requirement already satisfied: networkx in /usr/local/lib/python3.12/dist-packages (from graph_scheduler) (3.5)\n",
            "Requirement already satisfied: numpy>=1.19.0 in /usr/local/lib/python3.12/dist-packages (from graph_scheduler) (2.0.2)\n",
            "Requirement already satisfied: pandas in /usr/local/lib/python3.12/dist-packages (from graph_scheduler) (2.2.2)\n",
            "Requirement already satisfied: pint in /usr/local/lib/python3.12/dist-packages (from graph_scheduler) (0.25)\n",
            "Requirement already satisfied: scipy in /usr/local/lib/python3.12/dist-packages (from graph_scheduler) (1.16.2)\n",
            "Requirement already satisfied: toposort in /usr/local/lib/python3.12/dist-packages (from graph_scheduler) (1.10)\n",
            "Requirement already satisfied: python-dateutil>=2.8.2 in /usr/local/lib/python3.12/dist-packages (from pandas->graph_scheduler) (2.9.0.post0)\n",
            "Requirement already satisfied: pytz>=2020.1 in /usr/local/lib/python3.12/dist-packages (from pandas->graph_scheduler) (2025.2)\n",
            "Requirement already satisfied: tzdata>=2022.7 in /usr/local/lib/python3.12/dist-packages (from pandas->graph_scheduler) (2025.2)\n",
            "Requirement already satisfied: flexcache>=0.3 in /usr/local/lib/python3.12/dist-packages (from pint->graph_scheduler) (0.3)\n",
            "Requirement already satisfied: flexparser>=0.4 in /usr/local/lib/python3.12/dist-packages (from pint->graph_scheduler) (0.4)\n",
            "Requirement already satisfied: platformdirs>=2.1.0 in /usr/local/lib/python3.12/dist-packages (from pint->graph_scheduler) (4.4.0)\n",
            "Requirement already satisfied: typing-extensions>=4.0.0 in /usr/local/lib/python3.12/dist-packages (from pint->graph_scheduler) (4.15.0)\n",
            "Requirement already satisfied: six>=1.5 in /usr/local/lib/python3.12/dist-packages (from python-dateutil>=2.8.2->pandas->graph_scheduler) (1.17.0)\n"
          ]
        },
        {
          "output_type": "stream",
          "name": "stderr",
          "text": [
            "UsageError: Line magic function `%%capture` not found.\n"
          ]
        }
      ],
      "execution_count": 11
    },
    {
      "metadata": {
        "id": "600a35af2ba0aa53"
      },
      "cell_type": "markdown",
      "source": [
        "## SweetBean: Creating A static Experiment\n",
        "\n",
        "To create a simple experiment with SweetBean, we define a sequence of stimuli. This get added to a block, which in turn gets added to an experiment. Finally, we export the experiment to an HTML file.\n",
        "\n",
        "Each stimulus is defined by a class, which can be found in the `sweetbean.stimulus` module.\n",
        "\n",
        "SweetBean supports a variety of output-formats for your experiment. The most convenient to test your experiment locally is the html format. Here, we also add a path for local download of the data so we can look at what data is collected during the experiment."
      ],
      "id": "600a35af2ba0aa53"
    },
    {
      "metadata": {
        "ExecuteTime": {
          "end_time": "2025-09-25T17:14:40.395141Z",
          "start_time": "2025-09-25T17:14:40.377702Z"
        },
        "id": "5096da311f7920cc"
      },
      "cell_type": "code",
      "source": [
        "from sweetbean import Block, Experiment\n",
        "from sweetbean.stimulus import Text\n",
        "\n",
        "seq = [\n",
        "    # TODO: add RED in red for 2000ms\n",
        "]\n",
        "\n",
        "block = Block(seq)\n",
        "experiment = Experiment([block])\n",
        "experiment.to_html('experiment.html')\n"
      ],
      "id": "5096da311f7920cc",
      "outputs": [],
      "execution_count": null
    },
    {
      "metadata": {
        "id": "4f599f9fbb867d5c"
      },
      "cell_type": "markdown",
      "source": [
        "<details><summary>Reveal</summary>\n",
        "\n",
        "```python\n",
        "seq = [\n",
        "    Text(text='RED', color='red', duration=2000)\n",
        "    ]\n",
        "```\n",
        "\n",
        "</details>"
      ],
      "id": "4f599f9fbb867d5c"
    },
    {
      "metadata": {
        "id": "b46f4fe32ea4bebb"
      },
      "cell_type": "markdown",
      "source": [
        "## SweetBean: The Timeline Feature\n",
        "\n",
        "The most prominent feature of SweetBean is the timeline feature. Experiments are characterized by two objects:\n",
        "\n",
        "- A **Stimulus Sequence**: A sequence of stimuli that are presented to the participant over and over again.\n",
        "- A **Task Timeline**: A sequence of parameters that parametrize the stimulus sequence."
      ],
      "id": "b46f4fe32ea4bebb"
    },
    {
      "metadata": {
        "id": "25a433941dc593e9"
      },
      "cell_type": "code",
      "outputs": [],
      "execution_count": null,
      "source": [
        "from sweetbean.variable import TimelineVariable\n",
        "\n",
        "timeline = [\n",
        "    # TODO: add a timeline that parametrizes each sequence\n",
        "]\n",
        "\n",
        "seq = [\n",
        "    # TODO: add RED in red for 2000ms\n",
        "]\n",
        "\n",
        "block = Block(seq, timeline=timeline)\n",
        "experiment = Experiment([block])\n",
        "experiment.to_html('experiment.html')\n"
      ],
      "id": "25a433941dc593e9"
    },
    {
      "metadata": {
        "id": "85232ee3bc21c985"
      },
      "cell_type": "markdown",
      "source": [
        "<details><summary>Reveal</summary>\n",
        "\n",
        "```python\n",
        "timeline = [\n",
        "    {'word': 'RED', 'color': 'red'},\n",
        "    {'word': 'GREEN', 'color': 'green'},\n",
        "]\n",
        "\n",
        "seq = [\n",
        "    Text(text=TimelineVariable('word'), color=TimelineVariable('color'), duration=2000),\n",
        "]\n",
        "```\n",
        "</details>"
      ],
      "id": "85232ee3bc21c985"
    },
    {
      "metadata": {
        "id": "c850d342576d88cd"
      },
      "cell_type": "markdown",
      "source": [
        "## A *Perfectly Balanced* Experiment:\n",
        "> Disproving the *Myth* of the Stroop Effect and Cognitive Control\n"
      ],
      "id": "c850d342576d88cd"
    },
    {
      "metadata": {
        "ExecuteTime": {
          "end_time": "2025-09-25T17:48:06.405969Z",
          "start_time": "2025-09-25T17:48:02.836977Z"
        },
        "id": "7deaf50266363987"
      },
      "cell_type": "code",
      "source": [
        "import random\n",
        "from sweetbean.stimulus import Blank\n",
        "\n",
        "timeline = ...\n",
        "\n",
        "seq = [\n",
        "    Text(text=TimelineVariable('word'), color=TimelineVariable('color'), duration=1000),\n",
        "    Blank(duration=400)\n",
        "]\n",
        "\n",
        "block = Block(seq, timeline=timeline)\n",
        "experiment = Experiment([block])\n",
        "experiment.to_html('experiment.html')"
      ],
      "id": "7deaf50266363987",
      "outputs": [],
      "execution_count": null
    },
    {
      "metadata": {
        "id": "d7b065ea161ef190"
      },
      "cell_type": "markdown",
      "source": [
        "<details><summary>Reveal</summary>\n",
        "\n",
        "```python\n",
        "incongruent_stimuli = [\n",
        "    {'word': 'GREEN', 'color': 'red'},\n",
        "    {'word': 'BLUE', 'color': 'red'},\n",
        "    {'word': 'YELLOW', 'color': 'red'}\n",
        "]\n",
        "congruent_stimuli = [\n",
        "    {'word': 'PURPLE', 'color': 'purple'},\n",
        "    {'word': 'ORANGE', 'color': 'orange'},\n",
        "\n",
        "]\n",
        "\n",
        "timeline = random.choices(incongruent_stimuli, k=32) + random.choices(congruent_stimuli, k=4)\n",
        "random.shuffle(timeline)\n",
        "timeline = random.choices(incongruent_stimuli, k=4) + timeline\n",
        "```\n",
        "\n",
        "</details>\n"
      ],
      "id": "d7b065ea161ef190"
    },
    {
      "metadata": {
        "id": "fb5cbda88c13ff34"
      },
      "cell_type": "markdown",
      "source": [
        "A *More Perfectly Balanced* Experiment:\n",
        "> Disproving the *Myth* of the Switch Costs"
      ],
      "id": "fb5cbda88c13ff34"
    },
    {
      "metadata": {
        "ExecuteTime": {
          "end_time": "2025-09-25T18:05:07.715239Z",
          "start_time": "2025-09-25T18:05:00.833062Z"
        },
        "id": "42e993d8e6675b3f"
      },
      "cell_type": "code",
      "source": [
        "import random\n",
        "from sweetbean.stimulus import Blank\n",
        "\n",
        "timeline = [\n",
        "    {'task': 'color naming', 'word': 'RED', 'color': 'red'},\n",
        "    {'task': 'color naming', 'word': 'RED', 'color': 'green'},\n",
        "    {'task': 'word reading', 'word': 'GREEN', 'color': 'blue'},\n",
        "    {'task': 'word reading', 'word': 'BLUE', 'color': 'red'},\n",
        "    {'task': 'color naming', 'word': 'BLUE', 'color': 'blue'},\n",
        "    {'task': 'color naming', 'word': 'ORANGE', 'color': 'purple'},\n",
        "    {'task': 'color naming', 'word': 'GREEN', 'color': 'red'},\n",
        "    {'task': 'word reading', 'word': 'GREEN', 'color': 'green'},\n",
        "    {'task': 'color naming', 'word': 'GREEN', 'color': 'green'},\n",
        "    {'task': 'color naming', 'word': 'YELLOW', 'color': 'purple'},\n",
        "    {'task': 'color naming', 'word': 'BLUE', 'color': 'red'},\n",
        "    {'task': 'word reading', 'word': 'BLUE', 'color': 'blue'},\n",
        "    {'task': 'word reading', 'word': 'RED', 'color': 'blue'},\n",
        "    {'task': 'color naming', 'word': 'GREEN', 'color': 'red'},\n",
        "    {'task': 'word reading', 'word': 'RED', 'color': 'yellow'},\n",
        "    {'task': 'color naming', 'word': 'ORANGE', 'color': 'red'},\n",
        "    {'task': 'word reading', 'word': 'RED', 'color': 'green'},\n",
        "    {'task': 'word reading', 'word': 'PURPLE', 'color': 'blue'},\n",
        "    {'task': 'word reading', 'word': 'RED', 'color': 'green'},\n",
        "    {'task': 'color naming', 'word': 'RED', 'color': 'red'},\n",
        "    {'task': 'word reading', 'word': 'RED', 'color': 'green'},\n",
        "    {'task': 'color naming', 'word': 'BLUE', 'color': 'red'},\n",
        "]\n",
        "\n",
        "seq = [\n",
        "    Text(text=TimelineVariable('task'), duration=1000),\n",
        "    Text(text=TimelineVariable('word'), color=TimelineVariable('color'), duration=2000),\n",
        "    Blank(duration=400)\n",
        "]\n",
        "\n",
        "block = Block(seq, timeline=timeline)\n",
        "experiment = Experiment([block])\n",
        "experiment.to_html('experiment.html')"
      ],
      "id": "42e993d8e6675b3f",
      "outputs": [],
      "execution_count": null
    },
    {
      "metadata": {
        "id": "7d512652d7690a32"
      },
      "cell_type": "markdown",
      "source": [
        "## A Reasonable Approach to Creating the Timeline: SweetPea\n",
        "\n",
        "### Regular Factors\n"
      ],
      "id": "7d512652d7690a32"
    },
    {
      "metadata": {
        "id": "f6a2d57ce09a7a56"
      },
      "cell_type": "code",
      "outputs": [],
      "execution_count": null,
      "source": [
        "from sweetpea import CrossBlock, synthesize_trials, experiments_to_dicts, Factor\n",
        "\n",
        "### SweetPea ###\n",
        "# TODO: implement factors here\n",
        "\n",
        "design = []\n",
        "crossing = []\n",
        "constraints = []\n",
        "\n",
        "cross_block = CrossBlock(design, crossing, constraints)\n",
        "_timelines = synthesize_trials(cross_block, 1)\n",
        "timelines = experiments_to_dicts(cross_block, _timelines)\n",
        "\n",
        "### SweetBean ###\n",
        "# TODO: implement stimulus sequence here\n",
        "seq = [\n",
        "\n",
        "]\n",
        "\n",
        "blocks = []\n",
        "for timeline in timelines:\n",
        "    blocks.append(Block(seq, timeline=timeline))\n",
        "experiment = Experiment(blocks)\n",
        "experiment.to_html('experiment.html')"
      ],
      "id": "f6a2d57ce09a7a56"
    },
    {
      "metadata": {
        "id": "c0c1678ad36291e9"
      },
      "cell_type": "markdown",
      "source": [
        "<details><summary>Reveal</summary>\n",
        "\n",
        "```python\n",
        "### SweetPea ###\n",
        "word = Factor('word', ['RED', 'GREEN'])\n",
        "color = Factor('color', ['red', 'green'])\n",
        "task = Factor('task', ['color naming', 'word reading'])\n",
        "\n",
        "\n",
        "design = [word, color, task]\n",
        "crossing = [word, color, task]\n",
        "constraints = []\n",
        "\n",
        "cross_block = CrossBlock(design, crossing, constraints)\n",
        "_timelines = synthesize_trials(cross_block, 1)\n",
        "timelines = experiments_to_dicts(cross_block, _timelines)\n",
        "\n",
        "### SweetBean ###\n",
        "\n",
        "seq = [\n",
        "    Text(text=TimelineVariable('task'), duration=1000),\n",
        "    Text(text=TimelineVariable('word'), color=TimelineVariable('color'), duration=2000),\n",
        "    Blank(duration=400)\n",
        "]\n",
        "```"
      ],
      "id": "c0c1678ad36291e9"
    },
    {
      "metadata": {
        "id": "447682f7e08914ad"
      },
      "cell_type": "markdown",
      "source": [
        "## Derived Factors"
      ],
      "id": "447682f7e08914ad"
    },
    {
      "metadata": {
        "ExecuteTime": {
          "end_time": "2025-09-25T18:28:30.106935Z",
          "start_time": "2025-09-25T18:28:23.291161Z"
        },
        "id": "838f4ea234e6b4e1",
        "outputId": "4e7ed200-2e8a-4bca-b1d0-a0299283fedf"
      },
      "cell_type": "code",
      "source": [
        "from sweetpea import CrossBlock, synthesize_trials, experiments_to_dicts, Factor, DerivedLevel, WithinTrial\n",
        "\n",
        "### SweetPea ###\n",
        "word = Factor('word', ['RED', 'GREEN', 'BLUE', 'YELLOW', 'ORANGE', 'PURPLE'])\n",
        "color = Factor('color', ['red', 'green', 'blue'])\n",
        "task = Factor('task', ['color naming', 'word reading'])\n",
        "\n",
        "## Congruency\n",
        "\n",
        "# TODO: implement congruency derived factor here\n",
        "\n",
        "congruency = ...\n",
        "\n",
        "design = [word, color, task, congruency]\n",
        "crossing = [congruency, task]\n",
        "constraints = []\n",
        "\n",
        "cross_block = CrossBlock(design, crossing, constraints)\n",
        "_timelines = synthesize_trials(cross_block, 1)\n",
        "timelines = experiments_to_dicts(cross_block, _timelines)\n",
        "\n",
        "### SweetBean ###\n",
        "\n",
        "seq = [\n",
        "    Text(text=TimelineVariable('task'), duration=1000),\n",
        "    Text(text=TimelineVariable('word'), color=TimelineVariable('color'), duration=2000),\n",
        "    Blank(duration=400)\n",
        "]\n",
        "\n",
        "blocks = []\n",
        "for timeline in timelines:\n",
        "    blocks.append(Block(seq, timeline=timeline))\n",
        "experiment = Experiment(blocks)\n",
        "experiment.to_html('experiment.html')"
      ],
      "id": "838f4ea234e6b4e1",
      "outputs": [
        {
          "name": "stdout",
          "output_type": "stream",
          "text": [
            "Sampling 1 trial sequences using NonUniformGen.\n",
            "Encoding experiment constraints...\n",
            "Running CryptoMiniSat...\n"
          ]
        }
      ],
      "execution_count": null
    },
    {
      "metadata": {
        "id": "7048a08e87ae63b6"
      },
      "cell_type": "markdown",
      "source": [
        "<details><summary>Reveal</summary>\n",
        "\n",
        "```python\n",
        "## Congruency\n",
        "\n",
        "### Functions\n",
        "def is_congruent(_word, _color):\n",
        "    return _word.lower() == _color.lower()\n",
        "\n",
        "def is_incongruent(_word, _color):\n",
        "    return not is_congruent(_word, _color)\n",
        "\n",
        "\n",
        "congruent_level = DerivedLevel('congruent', WithinTrial(is_congruent, [color, word]))\n",
        "incongruent_level = DerivedLevel('incongruent', WithinTrial(is_incongruent, [color, word]))\n",
        "\n",
        "congruency = Factor('congruency', [congruent_level, incongruent_level])\n",
        "```\n",
        "\n",
        "</details>"
      ],
      "id": "7048a08e87ae63b6"
    },
    {
      "metadata": {
        "id": "3f960367dd35bfce"
      },
      "cell_type": "markdown",
      "source": [
        "## Transition Factors\n"
      ],
      "id": "3f960367dd35bfce"
    },
    {
      "metadata": {
        "id": "3930f262630deedb"
      },
      "cell_type": "code",
      "outputs": [],
      "execution_count": null,
      "source": [
        "from sweetpea import CrossBlock, synthesize_trials, experiments_to_dicts, Factor, DerivedLevel, WithinTrial, Transition\n",
        "\n",
        "### SweetPea ###\n",
        "word = Factor('word', ['RED', 'GREEN', 'BLUE', 'YELLOW', 'ORANGE', 'PURPLE'])\n",
        "color = Factor('color', ['red', 'green', 'blue'])\n",
        "task = Factor('task', ['color naming', 'word reading'])\n",
        "\n",
        "\n",
        "## Congruency\n",
        "\n",
        "### Functions\n",
        "def is_congruent(_word, _color):\n",
        "    return _word.lower() == _color.lower()\n",
        "\n",
        "\n",
        "def is_incongruent(_word, _color):\n",
        "    return not is_congruent(_word, _color)\n",
        "\n",
        "\n",
        "congruent_level = DerivedLevel('congruent', WithinTrial(is_congruent, [color, word]))\n",
        "incongruent_level = DerivedLevel('incongruent', WithinTrial(is_incongruent, [color, word]))\n",
        "\n",
        "congruency = Factor('congruency', [congruent_level, incongruent_level])\n",
        "\n",
        "## Task Switching\n",
        "\n",
        "# TODO: implement task switching derived factor here\n",
        "\n",
        "task_switch = ...\n",
        "\n",
        "design = [word, color, task, congruency, task_switch]\n",
        "crossing = [congruency, task, task_switch]\n",
        "constraints = []\n",
        "\n",
        "cross_block = CrossBlock(design, crossing, constraints)\n",
        "_timelines = synthesize_trials(cross_block, 1)\n",
        "timelines = experiments_to_dicts(cross_block, _timelines)\n",
        "\n",
        "### SweetBean ###\n",
        "\n",
        "seq = [\n",
        "    Text(text=TimelineVariable('task'), duration=1000),\n",
        "    Text(text=TimelineVariable('word'), color=TimelineVariable('color'), duration=2000),\n",
        "    Blank(duration=400)\n",
        "]\n",
        "\n",
        "blocks = []\n",
        "for timeline in timelines:\n",
        "    blocks.append(Block(seq, timeline=timeline))\n",
        "experiment = Experiment(blocks)\n",
        "experiment.to_html('experiment.html')"
      ],
      "id": "3930f262630deedb"
    },
    {
      "metadata": {
        "id": "f264c32c893b891f"
      },
      "cell_type": "markdown",
      "source": [
        "<details><summary>Reveal</summary>\n",
        "\n",
        "```python\n",
        "## Task Switching\n",
        "def is_switch(_task):\n",
        "    return _task[0] != _task[-1]\n",
        "\n",
        "def is_repeat(_task):\n",
        "    return not is_switch(_task)\n",
        "\n",
        "switch_level = DerivedLevel('switch', Transition(is_switch, [task]))\n",
        "repeat_level = DerivedLevel('repeat', Transition(is_repeat, [task]))\n",
        "\n",
        "task_switch = Factor('task_switch', [switch_level, repeat_level])\n",
        "```\n",
        "\n",
        "</details>\n"
      ],
      "id": "f264c32c893b891f"
    },
    {
      "metadata": {
        "id": "997375cf5a9a1001"
      },
      "cell_type": "markdown",
      "source": [
        "## Constraints\n",
        "\n",
        "In addition to counterbalancing, you can impose constraints on your design. For example, you might want to avoid that more than two incongruent trials of switch trials follow after each other. There are many predefined constraints in SweetPea with simple interfaces:\n",
        "\n",
        "`AtMostKInARow(factor, level, k)`, `ExactlyKInARow(factor, level, k)`, ...\n"
      ],
      "id": "997375cf5a9a1001"
    },
    {
      "metadata": {
        "id": "fbb507e7118d2883"
      },
      "cell_type": "markdown",
      "source": [
        "## Additional Features (new)\n",
        "\n",
        "- MiniBlock Designs\n",
        "- cContinuous factors (coming soon...)"
      ],
      "id": "fbb507e7118d2883"
    },
    {
      "metadata": {
        "id": "f28b760a9f8ce509"
      },
      "cell_type": "markdown",
      "source": [
        "## Sweet*Bean*: Adaptive Parameters\n",
        "\n",
        "\n",
        "### Function Variables\n"
      ],
      "id": "f28b760a9f8ce509"
    },
    {
      "metadata": {
        "ExecuteTime": {
          "end_time": "2025-09-25T19:06:01.090816Z",
          "start_time": "2025-09-25T19:05:54.270156Z"
        },
        "id": "ca13ab1c3763f269",
        "outputId": "1c0adb14-def4-4db7-e768-0ea272b8bf76"
      },
      "cell_type": "code",
      "outputs": [
        {
          "name": "stdout",
          "output_type": "stream",
          "text": [
            "Sampling 1 trial sequences using NonUniformGen.\n",
            "Encoding experiment constraints...\n",
            "Running CryptoMiniSat...\n"
          ]
        }
      ],
      "execution_count": null,
      "source": [
        "from sweetpea import CrossBlock, synthesize_trials, experiments_to_dicts, Factor\n",
        "from sweetbean.variable import FunctionVariable\n",
        "\n",
        "\n",
        "### SweetPea ###\n",
        "word = Factor('word', ['RED', 'GREEN'])\n",
        "color = Factor('color', ['red', 'green'])\n",
        "\n",
        "\n",
        "design = [word, color]\n",
        "crossing = [word, color]\n",
        "constraints = []\n",
        "\n",
        "cross_block = CrossBlock(design, crossing, constraints)\n",
        "_timelines = synthesize_trials(cross_block, 1)\n",
        "timelines = experiments_to_dicts(cross_block, _timelines)\n",
        "\n",
        "### SweetBean ###\n",
        "\n",
        "## Add Function Variable\n",
        "\n",
        "correct_key = ...\n",
        "\n",
        "\n",
        "seq = [\n",
        "    Text(text=TimelineVariable('word'), color=TimelineVariable('color'), choices=['j', 'f'], correct_key=correct_key, duration=2000),\n",
        "    Blank(duration=400)\n",
        "]\n",
        "\n",
        "blocks = []\n",
        "for timeline in timelines:\n",
        "    blocks.append(Block(seq, timeline=timeline))\n",
        "experiment = Experiment(blocks)\n",
        "experiment.to_html('experiment.html')"
      ],
      "id": "ca13ab1c3763f269"
    },
    {
      "metadata": {
        "id": "6b53898e2d984267"
      },
      "cell_type": "markdown",
      "source": [
        "<details><summary>Reveal</summary>\n",
        "\n",
        "```python\n",
        "## Add Function Variable\n",
        "\n",
        "def correct_key_fct(cl):\n",
        "    return 'f' if cl == 'red' else 'j'\n",
        "\n",
        "correct_key = FunctionVariable('correct_key', correct_key_fct, [TimelineVariable('color')])\n",
        "\n",
        "```\n",
        "\n",
        "</details>"
      ],
      "id": "6b53898e2d984267"
    },
    {
      "metadata": {
        "id": "3f8a6dfe1e554962"
      },
      "cell_type": "markdown",
      "source": [
        "### Data Variables"
      ],
      "id": "3f8a6dfe1e554962"
    },
    {
      "metadata": {
        "ExecuteTime": {
          "end_time": "2025-09-25T19:09:38.138263Z",
          "start_time": "2025-09-25T19:09:21.216736Z"
        },
        "id": "8ce2f4f25d3be6f",
        "outputId": "a7a0e56d-a68f-46e8-a935-58d208d8949d"
      },
      "cell_type": "code",
      "source": [
        "from sweetpea import CrossBlock, synthesize_trials, experiments_to_dicts, Factor\n",
        "from sweetbean.variable import FunctionVariable, DataVariable\n",
        "\n",
        "### SweetPea ###\n",
        "word = Factor('word', ['RED', 'GREEN'])\n",
        "color = Factor('color', ['red', 'green'])\n",
        "\n",
        "design = [word, color]\n",
        "crossing = [word, color]\n",
        "constraints = []\n",
        "\n",
        "cross_block = CrossBlock(design, crossing, constraints)\n",
        "_timelines = synthesize_trials(cross_block, 1)\n",
        "timelines = experiments_to_dicts(cross_block, _timelines)\n",
        "\n",
        "\n",
        "### SweetBean ###\n",
        "\n",
        "def correct_key_fct(cl):\n",
        "    return 'f' if cl == 'red' else 'j'\n",
        "\n",
        "\n",
        "correct_key = FunctionVariable('correct_key', correct_key_fct, [TimelineVariable('color')])\n",
        "\n",
        "\n",
        "## Add Data Variable and get feedback from it\n",
        "is_correct = ...\n",
        "\n",
        "feedback_text = ...\n",
        "\n",
        "seq = [\n",
        "    Blank(duration=400),\n",
        "    Text(text=TimelineVariable('word'), color=TimelineVariable('color'), choices=['j', 'f'], correct_key=correct_key,\n",
        "         duration=2000),\n",
        "    Text(text=feedback_text, duration=2000),\n",
        "]\n",
        "\n",
        "blocks = []\n",
        "for timeline in timelines:\n",
        "    blocks.append(Block(seq, timeline=timeline))\n",
        "experiment = Experiment(blocks)\n",
        "experiment.to_html('experiment.html')"
      ],
      "id": "8ce2f4f25d3be6f",
      "outputs": [
        {
          "name": "stdout",
          "output_type": "stream",
          "text": [
            "Sampling 1 trial sequences using NonUniformGen.\n",
            "Encoding experiment constraints...\n",
            "Running CryptoMiniSat...\n"
          ]
        }
      ],
      "execution_count": null
    },
    {
      "metadata": {
        "id": "528b5735ec263ff4"
      },
      "cell_type": "markdown",
      "source": [
        "<details><summary>Reveal</summary>\n",
        "\n",
        "```python\n",
        "## Add Data Variable and get feedback from it\n",
        "is_correct = DataVariable('correct', 1)\n",
        "\n",
        "\n",
        "def get_feedback(was_correct):\n",
        "    return 'CORRECT' if was_correct else 'INCORRECT'\n",
        "\n",
        "\n",
        "feedback_text = FunctionVariable('get_feedback', get_feedback, [is_correct])\n",
        "```\n",
        "\n",
        "</summary>"
      ],
      "id": "528b5735ec263ff4"
    },
    {
      "metadata": {
        "id": "dd60e58a079211a9"
      },
      "cell_type": "markdown",
      "source": [
        "### Side Effects"
      ],
      "id": "dd60e58a079211a9"
    },
    {
      "metadata": {
        "ExecuteTime": {
          "end_time": "2025-09-25T19:16:35.985871Z",
          "start_time": "2025-09-25T19:16:14.155707Z"
        },
        "id": "ba784c4d6c96ba1b",
        "outputId": "4cc30e01-f378-4b1c-8743-0e10ff983f9b"
      },
      "cell_type": "code",
      "source": [
        "from sweetpea import CrossBlock, synthesize_trials, experiments_to_dicts, Factor\n",
        "from sweetbean.variable import FunctionVariable, DataVariable, SharedVariable, SideEffect\n",
        "\n",
        "### SweetPea ###\n",
        "word = Factor('word', ['RED', 'GREEN'])\n",
        "color = Factor('color', ['red', 'green'])\n",
        "\n",
        "design = [word, color]\n",
        "crossing = [word, color]\n",
        "constraints = []\n",
        "\n",
        "cross_block = CrossBlock(design, crossing, constraints)\n",
        "_timelines = synthesize_trials(cross_block, 1)\n",
        "timelines = experiments_to_dicts(cross_block, _timelines)\n",
        "\n",
        "\n",
        "### SweetBean ###\n",
        "\n",
        "def correct_key_fct(cl):\n",
        "    return 'f' if cl == 'red' else 'j'\n",
        "\n",
        "\n",
        "correct_key = FunctionVariable('correct_key', correct_key_fct, [TimelineVariable('color')])\n",
        "\n",
        "is_correct = DataVariable('correct', 1)\n",
        "\n",
        "\n",
        "def get_feedback(was_correct):\n",
        "    return 'CORRECT' if was_correct else 'INCORRECT'\n",
        "\n",
        "\n",
        "feedback_text = FunctionVariable('get_feedback', get_feedback, [is_correct])\n",
        "\n",
        "num_correct = ...\n",
        "\n",
        "update_num_correct = ...\n",
        "\n",
        "update_score_side_effect = ...\n",
        "\n",
        "seq = [\n",
        "    Blank(duration=400),\n",
        "    Text(text=TimelineVariable('word'), color=TimelineVariable('color'), choices=['j', 'f'], correct_key=correct_key,\n",
        "         duration=2000,\n",
        "         side_effects=[update_score_side_effect]),\n",
        "    Text(text=feedback_text, duration=2000),\n",
        "    Text(duration=2000, text=num_correct)\n",
        "]\n",
        "\n",
        "blocks = []\n",
        "for timeline in timelines:\n",
        "    blocks.append(Block(seq, timeline=timeline))\n",
        "experiment = Experiment(blocks)\n",
        "experiment.to_html('experiment.html')"
      ],
      "id": "ba784c4d6c96ba1b",
      "outputs": [
        {
          "name": "stdout",
          "output_type": "stream",
          "text": [
            "Sampling 1 trial sequences using NonUniformGen.\n",
            "Encoding experiment constraints...\n",
            "Running CryptoMiniSat...\n"
          ]
        }
      ],
      "execution_count": null
    },
    {
      "metadata": {
        "id": "54620530e5e30734"
      },
      "cell_type": "markdown",
      "source": [
        "<details><summary>Reveal</summary>\n",
        "\n",
        "```python\n",
        "num_correct = SharedVariable(\"num_correct\", 0)\n",
        "\n",
        "update_num_correct = FunctionVariable(\n",
        "    \"update_num_correct\", lambda score, value: score + value, [num_correct, is_correct]\n",
        ")\n",
        "\n",
        "update_score_side_effect = SideEffect(num_correct, update_num_correct)\n",
        "```"
      ],
      "id": "54620530e5e30734"
    },
    {
      "metadata": {
        "id": "5f7289dc118dd5a0"
      },
      "cell_type": "markdown",
      "source": [
        "## SweetBean Data\n",
        "\n",
        "<a href=\"https://github.com/AutoResearch/ASDMB-Workshop/blob/main/ASDMB-book/content/external/practical-sessions/experimental-design/sample.csv\" download>Download CSV</a>\n",
        "<a href=\"https://github.com/AutoResearch/ASDMB-Workshop/blob/main/ASDMB-book/content/external/practical-sessions/experimental-design/sample.csv\">File on GitHub</a>\n",
        "\n",
        "Rows: One Row corresponds to one stimulus sequence\n",
        "Columns: the stimuli in sequence are indexed (0, 1, 2, ...). Relevant data often has the prefix `bean_`"
      ],
      "id": "5f7289dc118dd5a0"
    },
    {
      "metadata": {
        "id": "9fdb289d7c5edb39"
      },
      "cell_type": "markdown",
      "source": [
        "### Additional Features\n",
        "\n",
        "- Creating a Stimulus Image\n",
        "- LLM as synthetic participants\n",
        "\n"
      ],
      "id": "9fdb289d7c5edb39"
    },
    {
      "metadata": {
        "id": "5f2ceceb8e903d2c"
      },
      "cell_type": "markdown",
      "source": [
        "## Together: Create Our Stroop Experiment For the AutoRA Loop:"
      ],
      "id": "5f2ceceb8e903d2c"
    },
    {
      "metadata": {
        "id": "9e54bce8d00bfbf5"
      },
      "cell_type": "code",
      "outputs": [],
      "execution_count": null,
      "source": [
        "..."
      ],
      "id": "9e54bce8d00bfbf5"
    }
  ],
  "metadata": {
    "kernelspec": {
      "display_name": "Python 3",
      "language": "python",
      "name": "python3"
    },
    "language_info": {
      "codemirror_mode": {
        "name": "ipython",
        "version": 2
      },
      "file_extension": ".py",
      "mimetype": "text/x-python",
      "name": "python",
      "nbconvert_exporter": "python",
      "pygments_lexer": "ipython2",
      "version": "2.7.6"
    },
    "colab": {
      "provenance": [],
      "toc_visible": true
    }
  },
  "nbformat": 4,
  "nbformat_minor": 5
}